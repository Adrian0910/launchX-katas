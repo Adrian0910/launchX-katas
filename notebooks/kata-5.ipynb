{
 "cells": [
  {
   "cell_type": "markdown",
   "metadata": {},
   "source": [
    "# Operadores aritméticos"
   ]
  },
  {
   "cell_type": "markdown",
   "metadata": {},
   "source": [
    "### Crear variables para almacenar las dos distancias"
   ]
  },
  {
   "cell_type": "code",
   "execution_count": 4,
   "metadata": {},
   "outputs": [
    {
     "name": "stdout",
     "output_type": "stream",
     "text": [
      "628949330\n",
      "390577533.93\n"
     ]
    }
   ],
   "source": [
    "planetOne = 149597870\n",
    "planetTow = 778547200\n",
    "\n",
    "distance = (planetTow-planetOne)\n",
    "totalDistance = distance*0.621\n",
    "\n",
    "print(distance)\n",
    "print(totalDistance)"
   ]
  },
  {
   "cell_type": "markdown",
   "metadata": {},
   "source": [
    "### Convierte cadenas en números y usa valores absolutos"
   ]
  },
  {
   "cell_type": "code",
   "execution_count": 11,
   "metadata": {},
   "outputs": [
    {
     "name": "stdout",
     "output_type": "stream",
     "text": [
      "4437200000\n",
      "2755501200.0\n"
     ]
    }
   ],
   "source": [
    "planet_one = input(\"¿Cuál es la distancia del planeta 1?: \")\n",
    "planet_two = input(\"¿Cuál es la distancia del planeta 2?: \")\n",
    "\n",
    "# Convertir string a número\n",
    "planet_one = int(planet_one)\n",
    "planet_two = int(planet_two)\n",
    "\n",
    "# Realizar el cálculo y determinar el valor absoluto\n",
    "distance = abs(planet_one - planet_two)\n",
    "# Convertir de KM a Millas\n",
    "totalDistance = distance * 0.621\n",
    "# imprimir resultado\n",
    "print(distance)\n",
    "print(totalDistance)"
   ]
  }
 ],
 "metadata": {
  "interpreter": {
   "hash": "38fe160f290e04d1e4b5ab3687dc39ac66b804588372784af4ddffdcae451263"
  },
  "kernelspec": {
   "display_name": "Python 3.10.2 64-bit",
   "language": "python",
   "name": "python3"
  },
  "language_info": {
   "codemirror_mode": {
    "name": "ipython",
    "version": 3
   },
   "file_extension": ".py",
   "mimetype": "text/x-python",
   "name": "python",
   "nbconvert_exporter": "python",
   "pygments_lexer": "ipython3",
   "version": "3.10.2"
  },
  "orig_nbformat": 4
 },
 "nbformat": 4,
 "nbformat_minor": 2
}
