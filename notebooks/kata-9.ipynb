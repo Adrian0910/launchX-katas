{
 "cells": [
  {
   "cell_type": "markdown",
   "metadata": {},
   "source": [
    "## Trabajar con argumentos en funciones"
   ]
  },
  {
   "cell_type": "code",
   "execution_count": 43,
   "metadata": {},
   "outputs": [
    {
     "name": "stdout",
     "output_type": "stream",
     "text": [
      "Reporte de combustible:\n",
      "    Total: 53.333333333333336%\n",
      "    Tanque 1: 50%\n",
      "    Tanque 2: 30%\n",
      "    Tanque 3: 80% \n",
      "    \n"
     ]
    }
   ],
   "source": [
    "# Funcion promedio\n",
    "def promedio_tanques(tanques):\n",
    "    total = sum(tanques)\n",
    "    numero_tanques = len(tanques)\n",
    "    return total / numero_tanques\n",
    "\n",
    "# Funcion generar reporte\n",
    "def reporte_combustible(tanque_uno, tanque_dos, tanque_tres):\n",
    "    return f\"\"\"Reporte de combustible:\n",
    "    Total: {promedio_tanques([tanque_uno, tanque_dos, tanque_tres])}%\n",
    "    Tanque 1: {tanque_uno}%\n",
    "    Tanque 2: {tanque_dos}%\n",
    "    Tanque 3: {tanque_tres}% \n",
    "    \"\"\"\n",
    "\n",
    "print(reporte_combustible(50, 30, 80))"
   ]
  },
  {
   "cell_type": "markdown",
   "metadata": {},
   "source": [
    "## Trabajar con argumentos de palabras clave en funciones"
   ]
  },
  {
   "cell_type": "code",
   "execution_count": 62,
   "metadata": {},
   "outputs": [
    {
     "name": "stdout",
     "output_type": "stream",
     "text": [
      "\n",
      "    Informe de misión:\n",
      "    Destino: luna\n",
      "    Tiempo de vuelo: 65 mninutos\n",
      "    Tanques de combustible: 130%\n",
      "    \n",
      "\n",
      "    Destino: luna\n",
      "    Tiempo estimado de viaje: 70 minutos\n",
      "    Porcentaje combustible: 130%\n",
      "    \n",
      "\n",
      "    Destino: luna\n",
      "    Tiempo de viaje: 142 minutos\n",
      "    Porcentaje de combustible: 170\n",
      "    tanque_uno: 80 %\n",
      "tanque_dos: 90 %\n",
      "\n"
     ]
    }
   ],
   "source": [
    "# Función con un informe preciso de la misión. Considera hora de prelanzamiento, tiempo de vuelo, destino, tanque externo y tanque interno\n",
    "def informe_mision(hora_prelanzamiento, tiempo_vuelo, destino, tanque_externo, tanque_interno):\n",
    "    return f\"\"\"\n",
    "    Informe de misión:\n",
    "    Destino: {destino}\n",
    "    Tiempo de vuelo: {hora_prelanzamiento + tiempo_vuelo} mninutos\n",
    "    Tanques de combustible: {tanque_externo + tanque_interno}%\n",
    "    \"\"\"\n",
    "print(informe_mision(14, 51, \"luna\", 80, 50))\n",
    "# Escribe tu nueva función de reporte considerando lo anterior\n",
    "def reporte_mision(destino, *minutos, **combustible):\n",
    "    return f\"\"\"\n",
    "    Destino: {destino}\n",
    "    Tiempo estimado de viaje: {sum(minutos)} minutos\n",
    "    Porcentaje combustible: {sum(combustible.values())}%\n",
    "    \"\"\"\n",
    "\n",
    "print(reporte_mision(\"luna\", 25, 10, 35, externo=80, interno=50))\n",
    "\n",
    "#Tanques separados\n",
    "def informe(destino, *minutos, **combustible):\n",
    "    reporte = f\"\"\"\n",
    "    Destino: {destino}\n",
    "    Tiempo de viaje: {sum(minutos)} minutos\n",
    "    Porcentaje de combustible: {sum(combustible.values())}\n",
    "    \"\"\"\n",
    "    for numero_tanque, porcentaje in combustible.items():\n",
    "        reporte += f\"{numero_tanque}: {porcentaje} %\\n\"\n",
    "    return reporte\n",
    "\n",
    "print(informe(\"luna\", 54, 78, 10, tanque_uno=80, tanque_dos=90))"
   ]
  }
 ],
 "metadata": {
  "interpreter": {
   "hash": "38fe160f290e04d1e4b5ab3687dc39ac66b804588372784af4ddffdcae451263"
  },
  "kernelspec": {
   "display_name": "Python 3.10.2 64-bit",
   "language": "python",
   "name": "python3"
  },
  "language_info": {
   "codemirror_mode": {
    "name": "ipython",
    "version": 3
   },
   "file_extension": ".py",
   "mimetype": "text/x-python",
   "name": "python",
   "nbconvert_exporter": "python",
   "pygments_lexer": "ipython3",
   "version": "3.10.2"
  },
  "orig_nbformat": 4
 },
 "nbformat": 4,
 "nbformat_minor": 2
}
