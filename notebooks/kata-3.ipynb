{
 "cells": [
  {
   "cell_type": "markdown",
   "metadata": {},
   "source": []
  },
  {
   "cell_type": "markdown",
   "metadata": {},
   "source": [
    "# Kata 3, declaraciones if, else, y elif"
   ]
  },
  {
   "cell_type": "code",
   "execution_count": 2,
   "metadata": {},
   "outputs": [
    {
     "name": "stdout",
     "output_type": "stream",
     "text": [
      "Todo esta bien, continua haciendo lo que hacias\n"
     ]
    }
   ],
   "source": [
    "asteroide = 49\n",
    "if asteroide > 25:\n",
    "    print(\"¡Peligro! asteroide acercandose a velocidad peligrosa\")\n",
    "else:\n",
    "    print(\"Todo esta bien, continua haciendo lo que hacias\")"
   ]
  },
  {
   "cell_type": "code",
   "execution_count": 8,
   "metadata": {},
   "outputs": [
    {
     "name": "stdout",
     "output_type": "stream",
     "text": [
      "¡Luz magica en el cielo!\n"
     ]
    }
   ],
   "source": [
    "asteroide = 19\n",
    "if asteroide > 20:\n",
    "    print(\"¡Luz magica en el cielo!\")\n",
    "elif asteroide == 20:\n",
    "    print(\"¡Luz magica en el cielo!\")\n",
    "else:\n",
    "    print(\"No hay luz en el cielo\")"
   ]
  },
  {
   "cell_type": "code",
   "execution_count": 43,
   "metadata": {},
   "outputs": [
    {
     "name": "stdout",
     "output_type": "stream",
     "text": [
      "No pasa nada\n"
     ]
    }
   ],
   "source": [
    "import random as r\n",
    "velocidad_asteroide = r.randint(1, 50)\n",
    "tamanio_asteroide = r.randint(1, 50)\n",
    "\n",
    "if velocidad_asteroide > 25 and tamanio_asteroide > 25:\n",
    "    print('Esto significa peligro')\n",
    "elif velocidad_asteroide >= 20:\n",
    "    print('Luz magica en el cielo')\n",
    "elif tamanio_asteroide < 25:\n",
    "    print('No pasa nada')\n",
    "else:\n",
    "    print('todo bien!')"
   ]
  }
 ],
 "metadata": {
  "interpreter": {
   "hash": "38fe160f290e04d1e4b5ab3687dc39ac66b804588372784af4ddffdcae451263"
  },
  "kernelspec": {
   "display_name": "Python 3.10.2 64-bit",
   "language": "python",
   "name": "python3"
  },
  "language_info": {
   "codemirror_mode": {
    "name": "ipython",
    "version": 3
   },
   "file_extension": ".py",
   "mimetype": "text/x-python",
   "name": "python",
   "nbconvert_exporter": "python",
   "pygments_lexer": "ipython3",
   "version": "3.10.2"
  },
  "orig_nbformat": 4
 },
 "nbformat": 4,
 "nbformat_minor": 2
}
